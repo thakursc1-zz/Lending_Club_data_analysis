{
 "cells": [
  {
   "cell_type": "code",
   "execution_count": 1,
   "metadata": {
    "collapsed": true
   },
   "outputs": [],
   "source": [
    "import pandas as pd\n",
    "import numpy as np \n",
    "import matplotlib.pyplot as plt \n",
    "\n",
    "\n",
    "%matplotlib inline"
   ]
  },
  {
   "cell_type": "code",
   "execution_count": 2,
   "metadata": {
    "collapsed": false
   },
   "outputs": [],
   "source": [
    "df = pd.read_csv('final.csv',index_col =None)"
   ]
  },
  {
   "cell_type": "code",
   "execution_count": 3,
   "metadata": {
    "collapsed": false
   },
   "outputs": [
    {
     "data": {
      "text/plain": [
       "Unnamed: 0                      int64\n",
       "id                              int64\n",
       "member_id                       int64\n",
       "loan_amnt                     float64\n",
       "funded_amnt                   float64\n",
       "funded_amnt_inv               float64\n",
       "term                           object\n",
       "int_rate                      float64\n",
       "installment                   float64\n",
       "grade                          object\n",
       "sub_grade                      object\n",
       "emp_length                     object\n",
       "home_ownership                 object\n",
       "annual_inc                    float64\n",
       "verification_status            object\n",
       "issue_d                        object\n",
       "loan_status                    object\n",
       "pymnt_plan                     object\n",
       "url                            object\n",
       "purpose                        object\n",
       "title                          object\n",
       "zip_code                       object\n",
       "addr_state                     object\n",
       "dti                           float64\n",
       "delinq_2yrs                   float64\n",
       "earliest_cr_line               object\n",
       "inq_last_6mths                float64\n",
       "open_acc                      float64\n",
       "pub_rec                       float64\n",
       "revol_bal                     float64\n",
       "revol_util                    float64\n",
       "total_acc                     float64\n",
       "initial_list_status            object\n",
       "out_prncp                     float64\n",
       "out_prncp_inv                 float64\n",
       "total_pymnt                   float64\n",
       "total_pymnt_inv               float64\n",
       "total_rec_prncp               float64\n",
       "total_rec_int                 float64\n",
       "total_rec_late_fee            float64\n",
       "recoveries                    float64\n",
       "collection_recovery_fee       float64\n",
       "last_pymnt_d                   object\n",
       "last_pymnt_amnt               float64\n",
       "last_credit_pull_d             object\n",
       "collections_12_mths_ex_med    float64\n",
       "policy_code                   float64\n",
       "application_type               object\n",
       "acc_now_delinq                float64\n",
       "dtype: object"
      ]
     },
     "execution_count": 3,
     "metadata": {},
     "output_type": "execute_result"
    }
   ],
   "source": [
    "df.dtypes"
   ]
  },
  {
   "cell_type": "code",
   "execution_count": 28,
   "metadata": {
    "collapsed": false
   },
   "outputs": [
    {
     "data": {
      "text/plain": [
       "0.5304697937151411"
      ]
     },
     "execution_count": 28,
     "metadata": {},
     "output_type": "execute_result"
    }
   ],
   "source": [
    "#Clearly only 0.5% of the data set is having funded_anmt_inv 10 % less than the actual amnt\n",
    "df[((df.funded_amnt - df.funded_amnt_inv)/df.funded_amnt*100)>10].shape[0]/df.shape[0]*100"
   ]
  },
  {
   "cell_type": "code",
   "execution_count": 58,
   "metadata": {
    "collapsed": false
   },
   "outputs": [
    {
     "data": {
      "text/plain": [
       "Fully Paid                                             72.555464\n",
       "Charged Off                                            15.529992\n",
       "Current                                                 6.244864\n",
       "Does not meet the credit policy. Status:Fully Paid      3.615448\n",
       "Does not meet the credit policy. Status:Charged Off     1.807724\n",
       "Late (31-120 days)                                      0.246508\n",
       "dtype: float64"
      ]
     },
     "execution_count": 58,
     "metadata": {},
     "output_type": "execute_result"
    }
   ],
   "source": [
    "#Share of loan statuses for cases where bank funded 30% less then actual required \n",
    "#1) Clearly 16%  of the loans charged off which quite less actually\n",
    "df1 = df[((df.loan_amnt - df.funded_amnt)/df.loan_amnt*100)>30]\n",
    "df1.loan_status.value_counts()/df1.shape[0]*100"
   ]
  },
  {
   "cell_type": "code",
   "execution_count": 77,
   "metadata": {
    "collapsed": false
   },
   "outputs": [
    {
     "name": "stdout",
     "output_type": "stream",
     "text": [
      " 36 months    69.996582\n",
      " 60 months    30.003418\n",
      "dtype: float64\n"
     ]
    },
    {
     "data": {
      "image/png": "[encoded data removed]",
      "text/plain": [
       "<matplotlib.figure.Figure at 0x7f74499bec18>"
      ]
     },
     "metadata": {},
     "output_type": "display_data"
    }
   ],
   "source": [
    "(df.term.value_counts()/df.shape[0]*100).plot(kind='bar')\n",
    "print(df.term.value_counts()/df.shape[0]*100)\n",
    "\n",
    "\n"
   ]
  },
  {
   "cell_type": "code",
   "execution_count": 102,
   "metadata": {
    "collapsed": false
   },
   "outputs": [
    {
     "name": "stderr",
     "output_type": "stream",
     "text": [
      "/home/thakursc1/anaconda3/lib/python3.4/site-packages/pandas/core/index.py:4072: FutureWarning: elementwise comparison failed; returning scalar instead, but in the future will perform elementwise comparison\n",
      "  return np.sum(name == np.asarray(self.names)) > 1\n"
     ]
    },
    {
     "data": {
      "text/plain": [
       "term\n",
       " 36 months    4.711170\n",
       " 60 months    6.139402\n",
       "dtype: float64"
      ]
     },
     "execution_count": 102,
     "metadata": {},
     "output_type": "execute_result"
    }
   ],
   "source": [
    "# Clearly when term is 36 months only 4% of loans are charged off where as 6 % of  loans are charged off when term is 6 months \n",
    "df.groupby(['term','loan_status']).term.count().unstack()['Charged Off']/df.term.value_counts()*100"
   ]
  },
  {
   "cell_type": "code",
   "execution_count": 109,
   "metadata": {
    "collapsed": false
   },
   "outputs": [
    {
     "data": {
      "text/plain": [
       "B    28.672295\n",
       "C    27.667855\n",
       "A    16.718659\n",
       "D    15.751271\n",
       "E     7.972581\n",
       "F     2.598151\n",
       "G     0.619188\n",
       "dtype: float64"
      ]
     },
     "execution_count": 109,
     "metadata": {},
     "output_type": "execute_result"
    }
   ],
   "source": [
    "df.grade.value_counts()/df.shape[0]*100"
   ]
  },
  {
   "cell_type": "code",
   "execution_count": 133,
   "metadata": {
    "collapsed": false
   },
   "outputs": [
    {
     "name": "stderr",
     "output_type": "stream",
     "text": [
      "/home/thakursc1/anaconda3/lib/python3.4/site-packages/pandas/core/index.py:4072: FutureWarning: elementwise comparison failed; returning scalar instead, but in the future will perform elementwise comparison\n",
      "  return np.sum(name == np.asarray(self.names)) > 1\n"
     ]
    },
    {
     "data": {
      "text/plain": [
       "verification_status\n",
       "Not Verified       26.913088\n",
       "Source Verified    30.325079\n",
       "Verified           42.761832\n",
       "Name: Charged Off, dtype: float64"
      ]
     },
     "execution_count": 133,
     "metadata": {},
     "output_type": "execute_result"
    }
   ],
   "source": [
    "df.groupby(['verification_status','loan_status']).loan_status.count().unstack()['Charged Off']/df[df.loan_status=='Charged Off'].shape[0]*100"
   ]
  },
  {
   "cell_type": "code",
   "execution_count": 136,
   "metadata": {
    "collapsed": false
   },
   "outputs": [
    {
     "data": {
      "text/plain": [
       "Current                                                68.255698\n",
       "Fully Paid                                             23.876434\n",
       "Charged Off                                             5.139688\n",
       "Late (31-120 days)                                      1.318810\n",
       "In Grace Period                                         0.694904\n",
       "Late (16-30 days)                                       0.266271\n",
       "Does not meet the credit policy. Status:Fully Paid      0.220128\n",
       "Default                                                 0.139119\n",
       "Does not meet the credit policy. Status:Charged Off     0.083425\n",
       "Issued                                                  0.005523\n",
       "dtype: float64"
      ]
     },
     "execution_count": 136,
     "metadata": {},
     "output_type": "execute_result"
    }
   ],
   "source": [
    "df.loan_status.value_counts()/df.shape[0]*100"
   ]
  },
  {
   "cell_type": "code",
   "execution_count": 139,
   "metadata": {
    "collapsed": false
   },
   "outputs": [
    {
     "data": {
      "text/plain": [
       "n    869031\n",
       "y        10\n",
       "dtype: int64"
      ]
     },
     "execution_count": 139,
     "metadata": {},
     "output_type": "execute_result"
    }
   ],
   "source": [
    "#use less variable \n",
    "df.pymnt_plan.value_counts()"
   ]
  },
  {
   "cell_type": "code",
   "execution_count": 5,
   "metadata": {
    "collapsed": false
   },
   "outputs": [],
   "source": [
    "l = df[df.loan_status=='Charged Off']\n",
    "l1 = df[df.loan_status=='Default']"
   ]
  },
  {
   "cell_type": "code",
   "execution_count": 21,
   "metadata": {
    "collapsed": false
   },
   "outputs": [
    {
     "data": {
      "text/plain": [
       "Oct-2000    360\n",
       "Aug-2000    348\n",
       "Nov-2000    332\n",
       "Dec-2000    328\n",
       "Nov-1999    319\n",
       "Nov-2001    318\n",
       "Oct-2001    315\n",
       "Aug-1999    312\n",
       "Aug-2001    307\n",
       "Jul-2000    306\n",
       "Dec-1999    305\n",
       "Dec-1998    305\n",
       "Sep-1999    302\n",
       "Jan-2001    298\n",
       "May-2000    296\n",
       "Jan-2000    295\n",
       "Dec-2001    295\n",
       "Jun-2001    295\n",
       "May-2001    292\n",
       "Sep-2000    289\n",
       "Oct-1999    287\n",
       "Oct-2002    285\n",
       "Jul-2001    285\n",
       "Sep-2002    280\n",
       "Apr-2001    273\n",
       "Jun-2000    272\n",
       "Apr-2000    272\n",
       "Mar-2000    271\n",
       "Sep-2001    268\n",
       "Oct-2003    267\n",
       "           ... \n",
       "Dec-1966      1\n",
       "Jan-1956      1\n",
       "Aug-1960      1\n",
       "Oct-1963      1\n",
       "Nov-1956      1\n",
       "Apr-1964      1\n",
       "Jan-1966      1\n",
       "Jun-1960      1\n",
       "Jan-1964      1\n",
       "Jun-1965      1\n",
       "Aug-1964      1\n",
       "Sep-1971      1\n",
       "Jun-1973      1\n",
       "Jun-1959      1\n",
       "Dec-1962      1\n",
       "Nov-1958      1\n",
       "Mar-1964      1\n",
       "May-1968      1\n",
       "Oct-1966      1\n",
       "Apr-1955      1\n",
       "Sep-1969      1\n",
       "Feb-1964      1\n",
       "Dec-1956      1\n",
       "Mar-1963      1\n",
       "Jul-2011      1\n",
       "Sep-1968      1\n",
       "May-1966      1\n",
       "Jan-1955      1\n",
       "Jul-1969      1\n",
       "Aug-1965      1\n",
       "dtype: int64"
      ]
     },
     "execution_count": 21,
     "metadata": {},
     "output_type": "execute_result"
    }
   ],
   "source": [
    "l.earliest_cr_line.value_counts()"
   ]
  },
  {
   "cell_type": "code",
   "execution_count": 34,
   "metadata": {
    "collapsed": false
   },
   "outputs": [
    {
     "data": {
      "text/plain": [
       "<matplotlib.axes._subplots.AxesSubplot at 0x7fce213fcba8>"
      ]
     },
     "execution_count": 34,
     "metadata": {},
     "output_type": "execute_result"
    },
    {
     "data": {
      "image/png": "[encoded data removed]",
      "text/plain": [
       "<matplotlib.figure.Figure at 0x7fce213f1358>"
      ]
     },
     "metadata": {},
     "output_type": "display_data"
    }
   ],
   "source": [
    "(l1.application_type.value_counts()/l1.shape[0]).plot(kind='bar')"
   ]
  },
  {
   "cell_type": "code",
   "execution_count": 33,
   "metadata": {
    "collapsed": false
   },
   "outputs": [
    {
     "data": {
      "text/plain": [
       "<matplotlib.axes._subplots.AxesSubplot at 0x7fce2138e240>"
      ]
     },
     "execution_count": 33,
     "metadata": {},
     "output_type": "execute_result"
    },
    {
     "data": {
      "image/png": "[encoded data removed]",
      "text/plain": [
       "<matplotlib.figure.Figure at 0x7fce11d86588>"
      ]
     },
     "metadata": {},
     "output_type": "display_data"
    }
   ],
   "source": [
    "(df[df.loan_status!='Charged Off'].application_type.value_counts()/df[df.loan_status!='Charged Off'].shape[0]).plot(kind='bar',figsize=(15,12))\n"
   ]
  },
  {
   "cell_type": "code",
   "execution_count": null,
   "metadata": {
    "collapsed": true
   },
   "outputs": [],
   "source": []
  }
 ],
 "metadata": {
  "kernelspec": {
   "display_name": "Python 3",
   "language": "python",
   "name": "python3"
  },
  "language_info": {
   "codemirror_mode": {
    "name": "ipython",
    "version": 3
   },
   "file_extension": ".py",
   "mimetype": "text/x-python",
   "name": "python",
   "nbconvert_exporter": "python",
   "pygments_lexer": "ipython3",
   "version": "3.4.4"
  }
 },
 "nbformat": 4,
 "nbformat_minor": 0
}
